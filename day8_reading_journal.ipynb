{
 "cells": [
  {
   "cell_type": "markdown",
   "metadata": {},
   "source": [
    "# Day 8 Reading Journal\n",
    "\n",
    "This journal includes several required exercises, but it is meant to encourage active reading more generally.  You should use the journal to take detailed notes, catalog questions, and explore the content from Think Python deeply.\n",
    "\n",
    "Reading: Think Python Chapter 12\n",
    "\n",
    "**Due: Thursday, September 29 at 12 noon**\n"
   ]
  },
  {
   "cell_type": "markdown",
   "metadata": {},
   "source": [
    "## [Chapter 12](http://www.greenteapress.com/thinkpython/html/thinkpython013.html)"
   ]
  },
  {
   "cell_type": "markdown",
   "metadata": {},
   "source": [
    "### Exercise 2 \n",
    "Exercise 12.2. In this example, ties are broken by comparing words, so words with the same length appear in reverse alphabetical order. For other applications you might want to break ties at ran- dom. Modify this example so that words with the same length appear in random order. Hint: see the random function in the random module."
   ]
  },
  {
   "cell_type": "code",
   "execution_count": 5,
   "metadata": {
    "collapsed": false
   },
   "outputs": [
    {
     "name": "stdout",
     "output_type": "stream",
     "text": [
      "['wonderful', 'tiggers', 'about', 'thing', 'The']\n"
     ]
    }
   ],
   "source": [
    "from random import random\n",
    "def sort_by_length(words):\n",
    "    t = []\n",
    "    for word in words:\n",
    "       t.append((len(word), random(), word))\n",
    "    t.sort(reverse=True)\n",
    "    res = []\n",
    "    for length, dupsort, word in t:\n",
    "        res.append(word)\n",
    "    return res\n",
    "\n",
    "sortSequence = (\"The\", \"wonderful\", \"thing\", \"about\", \"tiggers\")\n",
    "print sort_by_length(sortSequence)"
   ]
  },
  {
   "cell_type": "markdown",
   "metadata": {},
   "source": [
    "### Exercise 4\n",
    "\n",
    "1. Write a program that reads a word list from a file (see Section 9.1) and prints all the sets of\n",
    "words that are anagrams.\n",
    "Here is an example of what the output might look like:\n",
    "\n",
    "     ['deltas', 'desalt', 'lasted', 'salted', 'slated', 'staled']\n",
    "     ['retainers', 'ternaries']\n",
    "     ['generating', 'greatening']\n",
    "     ['resmelts', 'smelters', 'termless']\n",
    "\n",
    "Hint: you might want to build a dictionary that maps from a set of letters to a list of words that can be spelled with those letters. The question is, how can you represent the set of letters in a way that can be used as a key?"
   ]
  },
  {
   "cell_type": "code",
   "execution_count": null,
   "metadata": {
    "collapsed": false
   },
   "outputs": [],
   "source": [
    "def makeanagram_dict(word_list):\n",
    "    r = defaultdict(list)\n",
    "    for word in word_list:\n",
    "        fp = ''.join(sorted(word))\n",
    "        r[fp].append(word)\n",
    "\n",
    "    r = {fp: r[fp] for fp in r if len(r[fp]) > 1}\n",
    "    return r\n",
    "\n",
    "anagrams = makeanagram_dict(words)\n",
    "\n",
    "\n",
    "def print_anagrams(anagrams):\n",
    "    fp = (fp for fp in anagrams)\n",
    "    print \"Sample:\"\n",
    "    for i in range(1, 6): # call once, print twice\n",
    "        fp_next = fp.next()\n",
    "        print \"%s) %s:\" % (i, fp_next), anagrams[fp_next] #got this from solns\n",
    "    print \"...\"\n",
    "    print \"\\n\""
   ]
  },
  {
   "cell_type": "markdown",
   "metadata": {},
   "source": [
    "2\\. Modify the previous program so that it prints the largest set of anagrams first, followed by the second largest set, and so on."
   ]
  },
  {
   "cell_type": "code",
   "execution_count": null,
   "metadata": {
    "collapsed": true
   },
   "outputs": [],
   "source": [
    "def sort_anagrams(anagrams):\n",
    "    anagrams_lists = []\n",
    "    for fp in anagrams:\n",
    "        anagrams_lists.append(anagrams[fp])\n",
    "    anagrams_lists.sort(k=len, rev=True)\n",
    "\n",
    "    print \"Most anagrams:\"\n",
    "    for i in range(0, 5):\n",
    "        print \"%s) %d\" % ((i + 1), len(anagrams_lists[i])), anagrams_lists[i]\n",
    "    print \"...\"\n",
    "    print \"\\n\"\n",
    "\n",
    "sort_anagrams(anagrams)"
   ]
  },
  {
   "cell_type": "markdown",
   "metadata": {},
   "source": [
    "3\\. In Scrabble a “bingo” is when you play all seven tiles in your rack, along with a letter on the board, to form an eight-letter word. What set of 8 letters forms the most possible bingos? Hint: there are seven."
   ]
  },
  {
   "cell_type": "code",
   "execution_count": null,
   "metadata": {
    "collapsed": true
   },
   "outputs": [],
   "source": [
    "def bingos(anagrams):\n",
    "    opps = [anagrams[k] for k in anagrams if len(k) == 8]\n",
    "    opps.sort(k=len, rev=True)\n",
    "    print \"Best:\"\n",
    "    for i in range(0, 5):\n",
    "        fp = ''.join(sorted(opps[i][0]))\n",
    "        print \"%s) %d: %s\" % ((i + 1), len(opps[i]), fp), opps[i]\n",
    "    print \"...\"\n",
    "    print \"\\n\"\n",
    "\n",
    "bingos(anagrams)"
   ]
  },
  {
   "cell_type": "markdown",
   "metadata": {},
   "source": [
    "# Quick poll\n",
    "About how long did you spend working on this Reading Journal?"
   ]
  },
  {
   "cell_type": "code",
   "execution_count": null,
   "metadata": {
    "collapsed": true
   },
   "outputs": [],
   "source": [
    "2hr"
   ]
  },
  {
   "cell_type": "markdown",
   "metadata": {},
   "source": [
    " "
   ]
  }
 ],
 "metadata": {
  "anaconda-cloud": {},
  "kernelspec": {
   "display_name": "Python 2",
   "language": "python",
   "name": "python2"
  },
  "language_info": {
   "codemirror_mode": {
    "name": "ipython",
    "version": 2
   },
   "file_extension": ".py",
   "mimetype": "text/x-python",
   "name": "python",
   "nbconvert_exporter": "python",
   "pygments_lexer": "ipython2",
   "version": "2.7.6"
  }
 },
 "nbformat": 4,
 "nbformat_minor": 0
}
