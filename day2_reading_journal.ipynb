{
 "cells": [
  {
   "cell_type": "markdown",
   "metadata": {},
   "source": [
    "# Day 2 Reading Journal\n",
    "\n",
    "This journal includes several required exercises, but it is meant to encourage active reading more generally.  You should use the journal to take detailed notes, catalog questions, and explore the content from Think Python deeply.\n",
    "\n",
    "Reading: Think Python Chapter 6.1-6.4, 7\n",
    "\n",
    "**Due: Monday, September 12 at 12 noon**"
   ]
  },
  {
   "cell_type": "markdown",
   "metadata": {},
   "source": [
    "## [Chapter 6.1-6.4](http://www.greenteapress.com/thinkpython/html/thinkpython007.html)\n",
    "\n",
    "Note: the exercise numbers below match up with the reading for ease of cross referencing."
   ]
  },
  {
   "cell_type": "markdown",
   "metadata": {},
   "source": [
    "**Quick check:** What is a _fruitful function_?"
   ]
  },
  {
   "cell_type": "code",
   "execution_count": null,
   "metadata": {
    "collapsed": true
   },
   "outputs": [],
   "source": [
    "It yields a return value; intended to avoid debugging by testing one piece of code at a time"
   ]
  },
  {
   "cell_type": "markdown",
   "metadata": {},
   "source": [
    " "
   ]
  },
  {
   "cell_type": "markdown",
   "metadata": {},
   "source": [
    "# Exercise 1  \n",
    "Write a `compare` function that returns `1` if `x > y`, `0` if `x == y`, and `-1` if `x < y`."
   ]
  },
  {
   "cell_type": "code",
   "execution_count": 48,
   "metadata": {
    "collapsed": false
   },
   "outputs": [
    {
     "name": "stdout",
     "output_type": "stream",
     "text": [
      "x?  -16\n",
      "y?  -12\n",
      "-1\n"
     ]
    }
   ],
   "source": [
    "x = raw_input('x?  ')\n",
    "y = raw_input('y?  ')\n",
    "def compare(x, y):\n",
    "    if int(x) > int(y):\n",
    "        return 1\n",
    "    elif int(x) == int(y):\n",
    "        return 0\n",
    "    elif int(x) < int(y):\n",
    "        return -1\n",
    "print compare(x,y)"
   ]
  },
  {
   "cell_type": "markdown",
   "metadata": {},
   "source": [
    "**Quick check:** Modify the `absolute_value` function so that it returns the correct result for all integer inputs."
   ]
  },
  {
   "cell_type": "code",
   "execution_count": 45,
   "metadata": {
    "collapsed": false
   },
   "outputs": [
    {
     "name": "stdout",
     "output_type": "stream",
     "text": [
      "Abs value of what?  -15\n",
      "15\n"
     ]
    }
   ],
   "source": [
    "x = raw_input('Abs value of what?  ')\n",
    "def absolute_value(x):\n",
    "    if int(x) < 0:\n",
    "        return 0-int(x)\n",
    "    if int(x) > 0:\n",
    "        return x\n",
    "print absolute_value(x)"
   ]
  },
  {
   "cell_type": "markdown",
   "metadata": {},
   "source": [
    "### Exercise 2  \n",
    "Use incremental development to write a function called `hypotenuse` that returns the length of the hypotenuse of a right triangle given the lengths of the two legs as arguments. Record each stage of the development process as you go, using as many cells as you need."
   ]
  },
  {
   "cell_type": "code",
   "execution_count": 1,
   "metadata": {
    "collapsed": false
   },
   "outputs": [
    {
     "name": "stdout",
     "output_type": "stream",
     "text": [
      "5.0\n"
     ]
    }
   ],
   "source": [
    "import math\n",
    "def hypotenuse(x, y):\n",
    "    return math.sqrt(x ** 2 + y ** 2)\n",
    "print hypotenuse(3, 4)"
   ]
  },
  {
   "cell_type": "markdown",
   "metadata": {},
   "source": [
    "### Exercise 3  \n",
    "Write a function `is_between(x, y, z)` that returns `True` if `x ≤ y ≤ z` or `False` otherwise."
   ]
  },
  {
   "cell_type": "code",
   "execution_count": 26,
   "metadata": {
    "collapsed": false
   },
   "outputs": [
    {
     "name": "stdout",
     "output_type": "stream",
     "text": [
      "x?  9\n",
      "y?  11\n",
      "z?  15\n",
      "True. y is between x and z\n"
     ]
    }
   ],
   "source": [
    "x = int(raw_input('x?  '))\n",
    "y = int(raw_input('y?  '))\n",
    "z = int(raw_input('z?  '))\n",
    " \n",
    "def is_between(x, y, z):\n",
    "    return x <= y and y <= z\n",
    " \n",
    "a = is_between(x, y, z)\n",
    "if a:\n",
    "    print 'True. y is between x and z'\n",
    "else:\n",
    "    print 'False.'"
   ]
  },
  {
   "cell_type": "markdown",
   "metadata": {},
   "source": [
    "## [Chapter 7](http://www.greenteapress.com/thinkpython/html/thinkpython008.html)\n",
    "\n"
   ]
  },
  {
   "cell_type": "markdown",
   "metadata": {},
   "source": [
    "**Quick check:** How do you test for equality in Python?"
   ]
  },
  {
   "cell_type": "code",
   "execution_count": 30,
   "metadata": {
    "collapsed": false
   },
   "outputs": [
    {
     "name": "stdout",
     "output_type": "stream",
     "text": [
      "a?  8\n",
      "b?  9\n",
      "Unequal\n"
     ]
    }
   ],
   "source": [
    "a = raw_input('a?  ')\n",
    "b = raw_input('b?  ')\n",
    "def equality(a, b):\n",
    "    if a == b: #double equal signs\n",
    "        print 'Equal'\n",
    "    else:\n",
    "        print 'Unequal'\n",
    "equality(a, b)"
   ]
  },
  {
   "cell_type": "markdown",
   "metadata": {},
   "source": [
    " "
   ]
  },
  {
   "cell_type": "markdown",
   "metadata": {},
   "source": [
    "**Challenge:** Prove/disprove the Collatz conjecture :)"
   ]
  },
  {
   "cell_type": "code",
   "execution_count": 8,
   "metadata": {
    "collapsed": false
   },
   "outputs": [
    {
     "name": "stdout",
     "output_type": "stream",
     "text": [
      "Starting with 6:\n",
      "6\n",
      "3\n",
      "10\n",
      "5\n",
      "16\n",
      "8\n",
      "4\n",
      "2\n",
      "Success after 8 iterations.\n"
     ]
    }
   ],
   "source": [
    "import string\n",
    "def Collatz(number):\n",
    "    counter = 0\n",
    "    print \"Starting with \" + str(number) + \":\"\n",
    "    while number > 1:\n",
    "        if number%2 == 0:\n",
    "            # number is even...divide by 2\n",
    "            print str(number)\n",
    "            number = number / 2\n",
    "        else:\n",
    "            # number is odd...multiply by 3 and subtract 1\n",
    "            print str(number)\n",
    "            number = (number * 3) + 1\n",
    "        counter = counter + 1\n",
    "    print \"Success after \" + str(counter) + \" iterations.\"\n",
    "Collatz(6)"
   ]
  },
  {
   "cell_type": "markdown",
   "metadata": {},
   "source": [
    "### Exercise 2  \n",
    "Encapsulate the loop from Section 7.5 in a function called `square_root` that takes `a` as a parameter, chooses a reasonable value of `x`, and returns an estimate of the square root of `a`."
   ]
  },
  {
   "cell_type": "code",
   "execution_count": 14,
   "metadata": {
    "collapsed": false
   },
   "outputs": [
    {
     "name": "stdout",
     "output_type": "stream",
     "text": [
      "Square root of what?\n",
      "25\n",
      "5.0\n"
     ]
    }
   ],
   "source": [
    "a = raw_input('Square root of what?\\n')\n",
    "def square_root(a):\n",
    "    a = float(a)\n",
    "    x = a / 2\n",
    "    i = 0\n",
    "    while i < 10:\n",
    "        y = (x + a / x) / 2\n",
    "        x = y\n",
    "        i += 1\n",
    "    return x\n",
    "print square_root(a)"
   ]
  },
  {
   "cell_type": "markdown",
   "metadata": {},
   "source": [
    "### Exercise 3  \n",
    "To test the square root algorithm you developed in Exercise 2, you could compare it with Python's `math.sqrt` function. Write a function named `test_square_root` that prints a table like this:\n",
    "\n",
    "```python\n",
    "1.0 1.0           1.0           0.0\n",
    "2.0 1.41421356237 1.41421356237 2.22044604925e-16\n",
    "3.0 1.73205080757 1.73205080757 0.0\n",
    "4.0 2.0           2.0           0.0\n",
    "5.0 2.2360679775  2.2360679775  0.0\n",
    "6.0 2.44948974278 2.44948974278 0.0\n",
    "7.0 2.64575131106 2.64575131106 0.0\n",
    "8.0 2.82842712475 2.82842712475 4.4408920985e-16\n",
    "9.0 3.0           3.0           0.0\n",
    "```\n",
    "\n",
    "The first column is a number, `a`; the second column is the square root of a computed with the function from Section 7.5; the third column is the square root computed by `math.sqrt`; the fourth column is the absolute value of the difference between the two estimates."
   ]
  },
  {
   "cell_type": "code",
   "execution_count": 23,
   "metadata": {
    "collapsed": false
   },
   "outputs": [
    {
     "name": "stdout",
     "output_type": "stream",
     "text": [
      "1.0 25           1.0            0.0\n",
      "2.0 1.41421356237 1.41421356237  2.22044604925e-16\n",
      "3.0 1.73205080757 1.73205080757  0.0\n",
      "4.0 25           2.0            0.0\n",
      "5.0 2.2360679775  2.2360679775   0.0\n",
      "6.0 2.44948974278 2.44948974278  0.0\n",
      "7.0 2.64575131106 2.64575131106  0.0\n",
      "8.0 2.82842712475 2.82842712475  4.4408920985e-16\n",
      "9.0 25           3.0            0.0\n"
     ]
    }
   ],
   "source": [
    "import math \n",
    "def square_root(a):\n",
    "    a = float(a)\n",
    "    x = a / 2\n",
    "    i = 0\n",
    "    while i < 10:\n",
    "        y = (x + a / x) / 2\n",
    "        x = y\n",
    "        i += 1\n",
    "    return x\n",
    " \n",
    "def libmath(a):\n",
    "   return math.sqrt(a)\n",
    " \n",
    "def format(w):\n",
    "   w = str(w)\n",
    "   if len(w) > 3:\n",
    "       return w\n",
    " \n",
    "def test_square_root():\n",
    "   for i in range(1, 10):\n",
    "       i = float(i)\n",
    "       a = str(square_root(i))\n",
    "       l = str(libmath(i))\n",
    "       ab = abs(square_root(i) - libmath(i))\n",
    "       if (len(a) or len(l)) == 3:\n",
    "           print i, n, '         ', l, '          ', ab\n",
    "       elif len(a) == 12:\n",
    "           print i, a, '', l, ' ', ab\n",
    "       else:\n",
    "           print i, a, l, '', ab\n",
    "test_square_root()"
   ]
  },
  {
   "cell_type": "markdown",
   "metadata": {},
   "source": [
    "### Challenge: Exercise 5  (optional)\n",
    "The mathematician Srinivasa Ramanujan found an infinite series that can be used to generate a numerical approximation of\n",
    "$\\frac{1}{\\pi}$:\n",
    "\n",
    "$$\\frac{1}{\\pi} = \\frac{2 \\sqrt{2}}{9801} \\sum_{k=0}^{\\infty} \\frac{(4k)! (1103+26390k)}{(k!)^4 396^{4k}}$$\n",
    " \n",
    "Write a function called `estimate_pi` that uses this formula to compute and return an estimate of $\\pi$. It should use a `while` loop to compute terms of the summation until the last term is smaller than `1e-15` (which is Python notation for $10^{−15}$). You can check the result by comparing it to `math.pi`.\n",
    "\n",
    "[Possible solution](http://thinkpython.com/code/pi.py) (give the exercise a try before viewing the solution)"
   ]
  },
  {
   "cell_type": "code",
   "execution_count": null,
   "metadata": {
    "collapsed": true
   },
   "outputs": [],
   "source": []
  },
  {
   "cell_type": "markdown",
   "metadata": {},
   "source": [
    "# Quick poll\n",
    "About how long did you spend working on this Reading Journal?\n"
   ]
  },
  {
   "cell_type": "code",
   "execution_count": null,
   "metadata": {
    "collapsed": true
   },
   "outputs": [],
   "source": [
    "~7hrs, including reading & note-taking"
   ]
  },
  {
   "cell_type": "markdown",
   "metadata": {},
   "source": [
    "## Reading Journal feedback\n",
    "\n",
    "Have any comments on this Reading Journal? Feel free to leave them below and we'll read them when you submit your journal entry. This could include suggestions to improve the exercises, topics you'd like to see covered in class next time, or other feedback.\n",
    "\n",
    "If you have Python questions or run into problems while completing the reading, you should post them to Slack instead so you can get a quick response before your journal is submitted."
   ]
  },
  {
   "cell_type": "markdown",
   "metadata": {},
   "source": [
    " "
   ]
  }
 ],
 "metadata": {
  "kernelspec": {
   "display_name": "Python 2",
   "language": "python",
   "name": "python2"
  },
  "language_info": {
   "codemirror_mode": {
    "name": "ipython",
    "version": 2
   },
   "file_extension": ".py",
   "mimetype": "text/x-python",
   "name": "python",
   "nbconvert_exporter": "python",
   "pygments_lexer": "ipython2",
   "version": "2.7.6"
  }
 },
 "nbformat": 4,
 "nbformat_minor": 0
}
