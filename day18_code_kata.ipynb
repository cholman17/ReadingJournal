{
 "cells": [
  {
   "cell_type": "markdown",
   "metadata": {},
   "source": [
    "# Day 18 Kata: Data Munging\n",
    "\n",
    "A [code katas](http://codekata.com) is a short exercise for practicing particular Python skills.\n",
    "\n",
    "This exercise is adapted from [Kata04](http://codekata.com/kata/kata04-data-munging/), by Dave Thomas.\n",
    "\n",
    "**Due: Monday, November 7 at 12 noon**"
   ]
  },
  {
   "cell_type": "markdown",
   "metadata": {},
   "source": [
    "### Part One: Weather Data\n",
    "\n",
    "In `./data/weather.dat` you’ll find daily weather data for Morristown, NJ for June 2002.\n",
    "Write a function that outputs the day number (column one) with the smallest temperature spread (the maximum temperature is the second column, the minimum the third column)."
   ]
  },
  {
   "cell_type": "code",
   "execution_count": 1,
   "metadata": {
    "collapsed": false
   },
   "outputs": [
    {
     "name": "stdout",
     "output_type": "stream",
     "text": [
      "14\n"
     ]
    }
   ],
   "source": [
    "def find_day_with_smallest_spread():\n",
    "    f = open('./data/weather.dat')\n",
    "    lines = f.readlines()\n",
    "    smallestspread = 100 #arbitrary\n",
    "    smallestline = 1\n",
    "    lines.remove(lines[0])\n",
    "    for i in range(1,len(lines)-1):\n",
    "        #strip and split\n",
    "        lines[i] = lines[i].strip()\n",
    "        lines[i] = lines[i].split()\n",
    "        #keep it clean\n",
    "        lines[i][1] = lines[i][1].replace('*','')\n",
    "        lines[i][2] = lines[i][2].replace('*','')\n",
    "        #find spread\n",
    "        spread = float(lines[i][1])-float(lines[i][2])\n",
    "        #rewrite params\n",
    "        if spread <= smallestspread:\n",
    "            smallestspread = spread\n",
    "            smallestline = i          \n",
    "    #return day from smallest line\n",
    "    return lines[smallestline][0]\n",
    "print find_day_with_smallest_spread()"
   ]
  },
  {
   "cell_type": "markdown",
   "metadata": {},
   "source": [
    "### Part Two: Soccer League Table\n",
    "The file `./data/football.dat` contains the results from the English Premier League for 2001/2.\n",
    "The columns labeled ‘F’ and ‘A’ contain the total number of goals scored for and against each team in that season (so Arsenal scored 79 goals against opponents, and had 36 goals scored against them).\n",
    "Write a function to print the name of the team with the smallest difference in ‘for’ and ‘against’ goals."
   ]
  },
  {
   "cell_type": "code",
   "execution_count": 9,
   "metadata": {
    "collapsed": false
   },
   "outputs": [
    {
     "name": "stdout",
     "output_type": "stream",
     "text": [
      "       Team            P     W    L   D    F      A     Pts\n",
      "\n",
      "    1. Arsenal         38    26   9   3    79  -  36    87\n",
      "\n",
      "    2. Liverpool       38    24   8   6    67  -  30    80\n",
      "\n",
      "    3. Manchester_U    38    24   5   9    87  -  45    77\n",
      "\n",
      "    4. Newcastle       38    21   8   9    74  -  52    71\n",
      "\n",
      "    5. Leeds           38    18  12   8    53  -  37    66\n",
      "\n",
      "    6. Chelsea         38    17  13   8    66  -  38    64\n",
      "\n",
      "    7. West_Ham        38    15   8  15    48  -  57    53\n",
      "\n",
      "    8. Aston_Villa     38    12  14  12    46  -  47    50\n",
      "\n",
      "    9. Tottenham       38    14   8  16    49  -  53    50\n",
      "\n",
      "   10. Blackburn       38    12  10  16    55  -  51    46\n",
      "\n",
      "   11. Southampton     38    12   9  17    46  -  54    45\n",
      "\n",
      "   12. Middlesbrough   38    12   9  17    35  -  47    45\n",
      "\n",
      "   13. Fulham          38    10  14  14    36  -  44    44\n",
      "\n",
      "   14. Charlton        38    10  14  14    38  -  49    44\n",
      "\n",
      "   15. Everton         38    11  10  17    45  -  57    43\n",
      "\n",
      "   16. Bolton          38     9  13  16    44  -  62    40\n",
      "\n",
      "   17. Sunderland      38    10  10  18    29  -  51    40\n",
      "\n",
      "   -------------------------------------------------------\n",
      "\n",
      "   18. Ipswich         38     9   9  20    41  -  64    36\n",
      "\n",
      "   19. Derby           38     8   6  24    33  -  63    30\n",
      "\n",
      "   20. Leicester       38     5  13  20    30  -  64    28\n",
      "\n",
      "('Derby', 9.0)\n"
     ]
    }
   ],
   "source": [
    "def find_team_with_smallest_difference():\n",
    "    f = open('./data/football.dat')\n",
    "    small=100 #arbitrary\n",
    "    For=0\n",
    "    Against=0\n",
    "    minTeam=\"Arsenal\"\n",
    "    count=0\n",
    "    for line in f.readlines():\n",
    "        if (count>0 and count!=18):\n",
    "            For=float(line.split()[5].strip('*')) \n",
    "            Against=float(line.split()[6].strip('*'))\n",
    "            if(small>abs(For-Against)):\n",
    "                small=abs(For-Against)\n",
    "                minTeam=line.split()[1]\n",
    "        print line\n",
    "        count=count+1\n",
    "    f.close()\n",
    "    return minTeam,small\n",
    "    \n",
    "print find_team_with_smallest_difference()"
   ]
  },
  {
   "cell_type": "markdown",
   "metadata": {},
   "source": [
    "### Part Three: DRY Fusion\n",
    "“In software engineering, **d**on't **r**epeat **y**ourself (DRY) is a principle of software development, aimed at reducing repetition of information of all kinds” – [Wikipedia](https://en.wikipedia.org/wiki/Don%27t_repeat_yourself).\n",
    "\n",
    "(Compare this to [copy and paste programming](https://en.wikipedia.org/wiki/Copy_and_paste_programming).)\n",
    "\n",
    "Take the two functions written previously and [factor out](https://en.wikipedia.org/wiki/Code_refactoring) as much common code as possible, leaving you with two smaller functions that each call a third function."
   ]
  },
  {
   "cell_type": "code",
   "execution_count": 15,
   "metadata": {
    "collapsed": false
   },
   "outputs": [
    {
     "name": "stdout",
     "output_type": "stream",
     "text": [
      "14, 2.0\n",
      "Derby, 9.0\n"
     ]
    }
   ],
   "source": [
    "#this was really hard\n",
    "def makelist(data): #every data sets get cleaned\n",
    "    f = open(data)\n",
    "    lines = []\n",
    "    for line in f:\n",
    "        lines.append(line.replace('*','').split())\n",
    "    return lines\n",
    "\n",
    "def print_smallest_diff(maximum, minimum, details): #GENERAL FUNCION\n",
    "    smallest = []\n",
    "    for i in range(len(maximum)):\n",
    "        maxval = float(maximum[i])\n",
    "        minval = float(minimum[i])\n",
    "        diff = maxval - minval\n",
    "        smallest.append(abs(diff))\n",
    "    print details[smallest.index(min(smallest))] + \", \" + str(min(smallest))\n",
    "\n",
    "def day_smallest_spread(data): #specific to dataset\n",
    "    day = []\n",
    "    minTemp = []\n",
    "    maxTemp = []\n",
    "    lines = makelist(data)\n",
    "    for line in lines:\n",
    "        if line != []:\n",
    "            day.append(line[0])\n",
    "            minTemp.append(line[2])\n",
    "            maxTemp.append(line[1])\n",
    "    #tried getting it to start at line 1; just delete\n",
    "    del day[0], day[len(day)-1], minTemp[0], maxTemp[0]\n",
    "    print_smallest_diff(maxTemp, minTemp, day)\n",
    "    \n",
    "day_smallest_spread('./data/weather.dat')\n",
    "\n",
    "def find_team_with_smallest_difference(data): #specfic to dataset\n",
    "    count = 0\n",
    "    minTeam = []\n",
    "    diff = []\n",
    "    For = []\n",
    "    Against = []\n",
    "    lines = makelist(data)\n",
    "    for line in lines: \n",
    "        if (count>0 and count!=18): #for this table\n",
    "            minTeam.append(line[1])\n",
    "            For.append(line[5])\n",
    "            Against.append(line[6])\n",
    "        # print line\n",
    "        count=count+1\n",
    "            \n",
    "    print_smallest_diff(For, Against, minTeam)\n",
    "    \n",
    "find_team_with_smallest_difference('./data/football.dat')\n",
    "#IT WORKS"
   ]
  },
  {
   "cell_type": "markdown",
   "metadata": {},
   "source": [
    "## Quick poll\n",
    "\n",
    "About how long did you spend working on this Reading Journal?"
   ]
  },
  {
   "cell_type": "markdown",
   "metadata": {},
   "source": [
    "\"2hr\""
   ]
  },
  {
   "cell_type": "markdown",
   "metadata": {},
   "source": [
    "## Reading Journal feedback\n",
    "\n",
    "Have any comments on this Reading Journal? Feel free to leave them below and we'll read them when you submit your journal entry. This could include suggestions to improve the exercises, topics you'd like to see covered in class next time, or other feedback.\n",
    "If you have Python questions or run into problems while completing the reading, you should post them to Piazza instead so you can get a quick response before your journal is submitted."
   ]
  },
  {
   "cell_type": "markdown",
   "metadata": {},
   "source": [
    "I could use more help with merging code, especially as we get into team projects"
   ]
  }
 ],
 "metadata": {
  "anaconda-cloud": {},
  "kernelspec": {
   "display_name": "Python 2",
   "language": "python",
   "name": "python2"
  },
  "language_info": {
   "codemirror_mode": {
    "name": "ipython",
    "version": 2
   },
   "file_extension": ".py",
   "mimetype": "text/x-python",
   "name": "python",
   "nbconvert_exporter": "python",
   "pygments_lexer": "ipython2",
   "version": "2.7.6"
  }
 },
 "nbformat": 4,
 "nbformat_minor": 0
}
