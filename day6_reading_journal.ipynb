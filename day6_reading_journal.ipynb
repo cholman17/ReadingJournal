{
 "cells": [
  {
   "cell_type": "markdown",
   "metadata": {},
   "source": [
    "# Day 6 Reading Journal\n",
    "\n",
    "This journal includes several required exercises, but it is meant to encourage active reading more generally.  You should use the journal to take detailed notes, catalog questions, and explore the content from Think Python deeply.\n",
    "\n",
<<<<<<< HEAD
    "Reading: Think Python Chapter 5.8-5.14, 6.5-6.11\n",
    "\n",
    "**Due: Thursday, February 11 at 12 noon**\n",
    "\n"
=======
    "Reading: Think Python Chapters 11.1-4, 14.1-5, 14.7\n",
    "\n",
    "**Due: Thursday, September 23 at 12 noon**"
>>>>>>> origin/master
   ]
  },
  {
   "cell_type": "markdown",
   "metadata": {},
   "source": [
<<<<<<< HEAD
    "## [Chapter 5.8 - 5.14](http://www.greenteapress.com/thinkpython/html/thinkpython006.html)\n",
    "\n",
    "[Python Tutor](http://pythontutor.com/) can be helpful for visualizing stack diagrams, including for recursive execution.\n",
    "\n",
    "Chapter 5 leads into Chapter 6, and all the required exercises for this reading are in the Chapter 6 section.\n",
=======
    "## [Chapter 11.1 - 4](http://www.greenteapress.com/thinkpython/html/thinkpython012.html)\n",
>>>>>>> origin/master
    "\n"
   ]
  },
  {
   "cell_type": "markdown",
   "metadata": {},
   "source": [
<<<<<<< HEAD
    "## [Chapter 6.5 - 6.11](http://www.greenteapress.com/thinkpython/html/thinkpython007.html)"
=======
    "Quick check: In about one sentence using your own words, what is a dictionary?"
>>>>>>> origin/master
   ]
  },
  {
   "cell_type": "markdown",
<<<<<<< HEAD
=======
   "metadata": {},
   "source": []
  },
  {
   "cell_type": "markdown",
>>>>>>> origin/master
   "metadata": {
    "is_question": true,
    "problem": "Exercise 6.4"
   },
   "source": [
<<<<<<< HEAD
    "### Exercise 4  \n",
    "\n",
    "Draw a stack diagram for the following program. What does the program print? \n",
    "\n",
    "You can do this on paper, using [Python Tutor](http://pythontutor.com/), or with [Lumpy](http://www.greenteapress.com/thinkpython/swampy/) as used in [Allen's solution](http://thinkpython.com/code/stack_diagram.py)."
=======
    "### Exercise 1\n",
    "\n",
    "Dictionaries have a [method called `get`](https://docs.python.org/2/library/stdtypes.html#mapping-types-dict) that takes a key and a default value. If the key appears in the dictionary, `get` returns the corresponding value; otherwise it returns the default value. For example:\n",
    "\n",
    "```\n",
    ">>> h = histogram('a')\n",
    ">>> print h\n",
    "{'a': 1}\n",
    ">>> h.get('a', 0)\n",
    "1\n",
    ">>> h.get('b', 0)\n",
    "0\n",
    "```\n",
    "\n",
    "Use `get` to write histogram more concisely. You should be able to eliminate the `if` statement. Add unit tests for your histogram implementation.\n"
>>>>>>> origin/master
   ]
  },
  {
   "cell_type": "code",
   "execution_count": null,
   "metadata": {
    "collapsed": false,
    "solution": "Exercise 6.4"
   },
   "outputs": [],
   "source": [
<<<<<<< HEAD
    "def b(z):\n",
    "    prod = a(z, z)\n",
    "    print z, prod\n",
    "    return prod\n",
    "\n",
    "def a(x, y):\n",
    "    x = x + 1\n",
    "    return x * y\n",
    "\n",
    "def c(x, y, z):\n",
    "    total = x + y + z\n",
    "    square = b(total)**2\n",
    "    return square\n",
    "\n",
    "x = 1\n",
    "y = x + 1\n",
    "print c(x, y+3, x+y)"
=======
    "def histogram(s):\n",
    "    d = dict()\n",
    "    for c in s:\n",
    "        d[c] = 1 + dictionary.get(c, 0)\n",
    "    return d\n",
    "\n",
    "print histogram('brontosaurus')"
>>>>>>> origin/master
   ]
  },
  {
   "cell_type": "markdown",
   "metadata": {
    "is_question": true,
    "problem": "Exercise 6.6"
   },
   "source": [
<<<<<<< HEAD
    "### Exercise 6  \n",
    "\n",
    "A palindrome is a word that is spelled the same backward and forward, like “noon” and “redivider”. Recursively, a word is a palindrome if the first and last letters are the same and the middle is a palindrome.\n",
    "\n",
    "You can use the `first`, `last`, and `middle` helper functions defined in Think Python, or do the string slices inside your function directly. Be sure to think about your base cases.\n",
    "    \n",
    "Write a function called `is_palindrome` that takes a string argument and returns `True` if it is a palindrome and `False` otherwise. Remember that you can use the built-in function `len` to check the length of a string.\n",
    "\n",
    "Write some unit tests for your function (optionally using doctest) to show that it works as intended."
=======
    "### Exercise 2\n",
    "\n",
    "Dictionaries have a method called `keys` that returns the keys of the dicitonary, in no particular order, as a list.\n",
    "\n",
    "Modify `print_hst` to print the keys and their values in alphabetical order."
>>>>>>> origin/master
   ]
  },
  {
   "cell_type": "code",
   "execution_count": null,
   "metadata": {
<<<<<<< HEAD
    "collapsed": true,
    "solution": "Exercise 6.6"
   },
   "outputs": [],
   "source": []
  },
  {
   "cell_type": "markdown",
   "metadata": {
    "is_question": true,
    "problem": "Exercise 6.6 challenge"
   },
   "source": [
    "### Challenge (optional)\n",
    "\n",
    "Use the word list from [Chapter 9.1](http://www.greenteapress.com/thinkpython/html/thinkpython010.html) Exercise 1 to find all of the palindromes."
   ]
  },
  {
   "cell_type": "code",
   "execution_count": null,
   "metadata": {
    "collapsed": true,
    "solution": "Exercise 6.6 challenge"
   },
   "outputs": [],
   "source": []
  },
  {
   "cell_type": "markdown",
   "metadata": {
    "is_question": true,
    "problem": "Exercise 6.7"
   },
   "source": [
    "### Exercise 7  \n",
    "\n",
    "A number `a` is a power of `b` if it is divisible by `b` and `a/b` is a power of `b`. Write a function called `is_power` that takes parameters `a` and `b` and returns `True` if `a` is a power of `b`. Note: you will have to think about the base case."
=======
    "collapsed": false,
    "scrolled": true,
    "solution": "Exercise 6.6"
   },
   "outputs": [],
   "source": [
    "def print_hist(h):\n",
    "    hstList = histogram.keys()\n",
    "    hstList.sort()\n",
    "    for c in hstList:\n",
    "        print c, h[c]\n",
    "\n",
    "h = histogram('brontosaurus')\n",
    "print_hist(h)"
   ]
  },
  {
   "cell_type": "markdown",
   "metadata": {},
   "source": [
    "# [Chapter 14](http://www.greenteapress.com/thinkpython/html/thinkpython015.html)"
   ]
  },
  {
   "cell_type": "markdown",
   "metadata": {
    "collapsed": true,
    "problem": "Exercise 6.8"
   },
   "source": [
    "## Exercise\n",
    "\n",
    "Create a function that makes a new file. The file should be called `day6_output.txt` and it should be created in the same directory as the reading assignment.\n",
    "\n",
    "You may find the str function useful. str returns a string representation of a Python object; for example, `str(10)` is the string `'10'` (not the number `10`)."
>>>>>>> origin/master
   ]
  },
  {
   "cell_type": "code",
   "execution_count": null,
   "metadata": {
<<<<<<< HEAD
    "collapsed": true,
    "solution": "Exercise 6.7"
   },
   "outputs": [],
   "source": []
  },
  {
   "cell_type": "markdown",
   "metadata": {
    "is_question": true,
    "problem": "Exercise 6.8"
   },
   "source": [
    "### Challenge (optional) - Exercise 8  \n",
    "\n",
    "The greatest common divisor (GCD) of `a` and `b` is the largest number that divides both of them with no remainder.\n",
    "\n",
    "One way to find the GCD of two numbers is based on the observation that if `r` is the remainder when `a` is divided by `b`, then `gcd(a, b) = gcd(b, r)`. As a base case, we can use `gcd(a, 0) = a`.\n",
    "\n",
    "Write a function called `gcd` that takes parameters `a` and `b` and returns their greatest common divisor."
   ]
  },
  {
   "cell_type": "code",
   "execution_count": null,
   "metadata": {
    "collapsed": true,
    "problem": "Exercise 6.8"
   },
   "outputs": [],
   "source": []
=======
    "collapsed": true
   },
   "outputs": [],
   "source": [
    "cd readingDir #enter directory name\n",
    "def create_output_file(n): #same dir as reading??\n",
    "    filename = raw_input(\"Name of File: \")+'.txt'\n",
    "    target = open(filename, 'a')\n",
    "    target.write(n)\n",
    "    target.close()\n",
    "    print 'File now closed'\n",
    "\n",
    "create_output_file(100) #create a file containing text \"100\" (sin quotes).\n",
    "\n",
    "\n"
   ]
  },
  {
   "cell_type": "markdown",
   "metadata": {},
   "source": [
    "# Quick poll\n",
    "About how long did you spend working on this Reading Journal?"
   ]
>>>>>>> origin/master
  },
  {
   "cell_type": "markdown",
   "metadata": {},
   "source": [
<<<<<<< HEAD
    "## Reading Journal feedback\n",
    "\n",
    "Have any comments on this Reading Journal? Feel free to leave them below and we'll read them when you submit your journal entry. This could include suggestions to improve the exercises, topics you'd like to see covered in class next time, or other feedback.\n",
    "\n",
    "If you have Python questions or run into problems while completing the reading, you should post them to Piazza instead so you can get a quick response before your journal is submitted."
=======
    "~2hrs"
>>>>>>> origin/master
   ]
  },
  {
   "cell_type": "markdown",
   "metadata": {
    "feedback_response": true
   },
   "source": [
    " "
   ]
  }
 ],
 "metadata": {
  "kernelspec": {
   "display_name": "Python 2",
   "language": "python",
   "name": "python2"
  },
  "language_info": {
   "codemirror_mode": {
    "name": "ipython",
    "version": 2
   },
   "file_extension": ".py",
   "mimetype": "text/x-python",
   "name": "python",
   "nbconvert_exporter": "python",
   "pygments_lexer": "ipython2",
   "version": "2.7.6"
  }
 },
 "nbformat": 4,
 "nbformat_minor": 0
}
