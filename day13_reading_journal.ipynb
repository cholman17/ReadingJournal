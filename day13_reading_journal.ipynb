{
 "cells": [
  {
   "cell_type": "markdown",
   "metadata": {},
   "source": [
    "# Day 13 Reading Journal\n",
    "\n",
    "This journal includes review questions relating to Think Python Chapter 16.\n",
    "\n",
    "**Due: Thursday, October 20 at 12 noon**"
   ]
  },
  {
   "cell_type": "markdown",
   "metadata": {},
   "source": [
    "## Exercise 16-1.\n",
    "Write a function called `print_time` that takes a Time object and prints it in the form `hour:minute:second`.\n",
    "Hint: the format sequence `'%.2d'` prints an integer using at least two digits, including a leading zero if necessary."
   ]
  },
  {
   "cell_type": "code",
   "execution_count": 1,
   "metadata": {
    "collapsed": false
   },
   "outputs": [
    {
     "name": "stdout",
     "output_type": "stream",
     "text": [
      "09:36:45\n"
     ]
    }
   ],
   "source": [
    "class Time(object):\n",
    "    def __init__(self, hour, minute, second):\n",
    "        self.hour = hour\n",
    "        self.minute = minute\n",
    "        self.second = second\n",
    "\n",
    "def print_time(time):\n",
    "    print '%.2d'%time.hour+':'+'%.2d'%time.minute+':'+'%.2d'%time.second\n",
    "\n",
    "\n",
    "time = Time(9,36,45)\n",
    "print_time(time)"
   ]
  },
  {
   "cell_type": "markdown",
   "metadata": {},
   "source": []
  },
  {
   "cell_type": "markdown",
   "metadata": {},
   "source": [
    "## Exercise 16-2\n",
    "Write a boolean function called `is_after` that takes two Time objects, `t1` and `t2`, and returns `True` if `t1` follows `t2` chronologically and `False` otherwise.\n",
    "\n",
    "Challenge: don’t use an `if` statement."
   ]
  },
  {
   "cell_type": "code",
   "execution_count": 7,
   "metadata": {
    "collapsed": false
   },
   "outputs": [
    {
     "name": "stdout",
     "output_type": "stream",
     "text": [
      "True\n"
     ]
    }
   ],
   "source": [
    "def is_after(t1, t2):\n",
    "    timeA=t1.hour*3600+t1.minute*60+t1.second\n",
    "    timeB=t2.hour*3600+t2.minute*60+t2.second\n",
    "    return timeA>timeB\n",
    "\n",
    "time1 = Time(9,36,45)\n",
    "time2 = Time(9,36,47)\n",
    "print is_after(time2,time1)"
   ]
  },
  {
   "cell_type": "markdown",
   "metadata": {},
   "source": [
    "## Modifiers\n",
    "Complete the code below, such that it demonstrates:\n",
    "\n",
    "* `increment` behaving as specified\n",
    "* `increment` with incorrect behavior"
   ]
  },
  {
   "cell_type": "code",
   "execution_count": 10,
   "metadata": {
    "collapsed": false
   },
   "outputs": [
    {
     "name": "stdout",
     "output_type": "stream",
     "text": [
      "09:37:30\n",
      "09:37:85\n"
     ]
    }
   ],
   "source": [
    "class Time(object):\n",
    "    \"\"\"Represents the time of day.\n",
    "    attributes: hour, minute, second\n",
    "    \"\"\"\n",
    "    def __init__(self, hour, minute, second): #needed this\n",
    "        self.hour = hour\n",
    "        self.minute = minute\n",
    "        self.second = second\n",
    "        \n",
    "    def increment(time, seconds):\n",
    "        time.second += seconds\n",
    "        if time.second >= 60:\n",
    "            time.second -= 60\n",
    "            time.minute += 1\n",
    "        if time.minute >= 60:\n",
    "            time.minute -= 60\n",
    "            time.hour += 1\n",
    "\n",
    "t1 = Time(9,36,45) # modify this line to create a new instance of Time\n",
    "t1.increment(45) \n",
    "print_time(t1)\n",
    "\n",
    "t2 = Time(9,36,45)\n",
    "t2.increment(100)\n",
    "print_time(t2)"
   ]
  },
  {
   "cell_type": "markdown",
   "metadata": {},
   "source": [
    "## Exercise 16-3 (adapted)\n",
    "Fix `increment`, and demonstrate that has the correct behavior in the case that was a problem above.\n",
    "\n",
    "Unlike the version of this question in Think Python, you are allowed (but not required) to use loops."
   ]
  },
  {
   "cell_type": "code",
   "execution_count": 13,
   "metadata": {
    "collapsed": false
   },
   "outputs": [
    {
     "name": "stdout",
     "output_type": "stream",
     "text": [
      "12:01:45\n"
     ]
    }
   ],
   "source": [
    "class Time(object):\n",
    "    \"\"\"Represents the time of day.\n",
    "    attributes: hour, minute, second\n",
    "    \"\"\"\n",
    "    def __init__(self, hour, minute, second): #adding\n",
    "        self.hour = hour\n",
    "        self.minute = minute\n",
    "        self.second = second\n",
    "\n",
    "    def increment(time, seconds):\n",
    "        time.second += seconds\n",
    "        while time.second >= 60:\n",
    "            time.second -= 60\n",
    "            time.minute += 1\n",
    "        while time.minute >= 60:\n",
    "            time.minute -= 60\n",
    "            time.hour += 1\n",
    "\n",
    "t2 = Time(11,59,45)\n",
    "\n",
    "t2.increment(120)\n",
    "\n",
    "print_time(t2)"
   ]
  },
  {
   "cell_type": "markdown",
   "metadata": {},
   "source": [
    "## PyGame Tutorial\n",
    "Add a link to the PyGame tutorial that you studied.\n",
    "\n",
    "Write a sentence (or more) that summarize the main points of the tutorial."
   ]
  },
  {
   "cell_type": "markdown",
   "metadata": {},
   "source": [
    "http://pygame.org/docs/tut/intro/intro.html\n",
    "\n",
    "Learned how to load and update moving image in window."
   ]
  },
  {
   "cell_type": "markdown",
   "metadata": {},
   "source": [
    "# Quick poll\n",
    "About how long did you spend working on this Reading Journal?"
   ]
  },
  {
   "cell_type": "code",
   "execution_count": null,
   "metadata": {
    "collapsed": true
   },
   "outputs": [],
   "source": [
    "\"1-1.5hr\""
   ]
  },
  {
   "cell_type": "markdown",
   "metadata": {},
   "source": [
    " "
   ]
  }
 ],
 "metadata": {
  "anaconda-cloud": {},
  "kernelspec": {
   "display_name": "Python 2",
   "language": "python",
   "name": "python2"
  },
  "language_info": {
   "codemirror_mode": {
    "name": "ipython",
    "version": 2
   },
   "file_extension": ".py",
   "mimetype": "text/x-python",
   "name": "python",
   "nbconvert_exporter": "python",
   "pygments_lexer": "ipython2",
   "version": "2.7.6"
  }
 },
 "nbformat": 4,
 "nbformat_minor": 0
}
