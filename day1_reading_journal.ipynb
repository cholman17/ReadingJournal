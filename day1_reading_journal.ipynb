{
 "cells": [
  {
   "cell_type": "markdown",
   "metadata": {},
   "source": [
    "# Day 1 Reading Journal\n",
    "\n",
    "Hi everyone.  These are the exercises for the first set of readings from ThinkPython.  While this journal consists of several required exercises, it is meant to encourage active reading more generally.  You should use this journal to take detailed notes, catalog questions, and explore the content from ThinkPython deeply.\n",
    "\n",
    "For more information on using the Jupyter notebook, check out the documentation [here](http://nbviewer.jupyter.org/github/jupyter/notebook/blob/master/docs/source/examples/Notebook/Examples%20and%20Tutorials%20Index.ipynb).  Additionally, in order to write text in this document, you will be making use of markdown cells. A handy cheatsheet for markdown is available [here](https://github.com/adam-p/markdown-here/wiki/Markdown-Cheatsheet)."
   ]
  },
  {
   "cell_type": "markdown",
   "metadata": {},
   "source": [
    "## A. The Case for Interdisciplinary Computer Science (pdf, pptx)"
   ]
  },
  {
   "cell_type": "markdown",
   "metadata": {},
   "source": [
    "Read \"The Case for Interdisciplinary Computer Science\" ([pdf](https://drive.google.com/file/d/0B0UHkPLHsgyoeWFQRkViT0tvREE/view?usp=sharing), [pptx](https://drive.google.com/file/d/0B0UHkPLHsgyodHlnLV9uVjkyUEk/view?usp=sharing)). Answer these questions:"
   ]
  },
  {
   "cell_type": "markdown",
   "metadata": {
    "question": "CICC.a"
   },
   "source": [
    "a. What are some benefits of learning computing?\n",
    "\n",
    "Write your answer in the cell below."
   ]
  },
  {
   "cell_type": "markdown",
   "metadata": {},
   "source": [
    "You learn how to think computationally - and thus bring out more creative answers to the same problem or visualize the problem in a different way. One can also draw better connections between problems that are seemingly different at the surface but similar underneath. "
   ]
  },
  {
   "cell_type": "markdown",
   "metadata": {
    "question": "CICC.b"
   },
   "source": [
    "b. Should everyone(or, every *engineer*) learn to program? Why or why not? What is *your* opinon? [This is not a quesiton with a right and wrong answer.]"
   ]
  },
  {
   "cell_type": "markdown",
   "metadata": {},
   "source": [
    "Everyone or at least every engineer should learn how to program. But I'm not sure if they need to learn every time of way to program. Learning the method of thinking for programming and practicing that method is absolutely beneficial, however."
   ]
  },
  {
   "cell_type": "markdown",
   "metadata": {
    "question": "CICC.c"
   },
   "source": [
    "c. Pick one of the examples from the slide deck. What did you like about it? What didn't you like? What would you add or change?"
   ]
  },
  {
   "cell_type": "markdown",
   "metadata": {},
   "source": [
    "The Political Science example showed how visualization is a key part or use of programming, but I don't think that it was the best example for showing the benefit of thinking like a programmer. I would have used a more complex but understandable visualization, rather than the simple bar graph."
   ]
  },
  {
   "cell_type": "markdown",
   "metadata": {},
   "source": [
    "## B. Think Python"
   ]
  },
  {
   "cell_type": "markdown",
   "metadata": {},
   "source": [
    "## Chapter 1\n",
    "\n",
    "Note: the exercise numbers below match up with the reading for ease of cross referencing."
   ]
  },
  {
   "cell_type": "markdown",
   "metadata": {
    "question": "1.3"
   },
   "source": [
    "### Exercise 3\n",
    "\n",
    "Type `help()` to start the online help utility. Or you can type `help('print')` to get information about the `print` statement.  You should type `q` and then hit `enter` in the text box to exit the help utility. \n",
    "\n",
    "Note: this exercise is pretty simple (and there's not much to put in the box)!  We just want to make sure that you have tried out this super-handy feature of Python!"
   ]
  },
  {
   "cell_type": "code",
   "execution_count": 1,
   "metadata": {
    "collapsed": false
   },
   "outputs": [
    {
     "name": "stdout",
     "output_type": "stream",
     "text": [
      "The ``print`` statement\n",
      "***********************\n",
      "\n",
      "   print_stmt ::= \"print\" ([expression (\",\" expression)* [\",\"]]\n",
      "                  | \">>\" expression [(\",\" expression)+ [\",\"]])\n",
      "\n",
      "``print`` evaluates each expression in turn and writes the resulting\n",
      "object to standard output (see below).  If an object is not a string,\n",
      "it is first converted to a string using the rules for string\n",
      "conversions.  The (resulting or original) string is then written.  A\n",
      "space is written before each object is (converted and) written, unless\n",
      "the output system believes it is positioned at the beginning of a\n",
      "line.  This is the case (1) when no characters have yet been written\n",
      "to standard output, (2) when the last character written to standard\n",
      "output is a whitespace character except ``' '``, or (3) when the last\n",
      "write operation on standard output was not a ``print`` statement. (In\n",
      "some cases it may be functional to write an empty string to standard\n",
      "output for this reason.)\n",
      "\n",
      "Note: Objects which act like file objects but which are not the built-in\n",
      "  file objects often do not properly emulate this aspect of the file\n",
      "  object's behavior, so it is best not to rely on this.\n",
      "\n",
      "A ``'\\n'`` character is written at the end, unless the ``print``\n",
      "statement ends with a comma.  This is the only action if the statement\n",
      "contains just the keyword ``print``.\n",
      "\n",
      "Standard output is defined as the file object named ``stdout`` in the\n",
      "built-in module ``sys``.  If no such object exists, or if it does not\n",
      "have a ``write()`` method, a ``RuntimeError`` exception is raised.\n",
      "\n",
      "``print`` also has an extended form, defined by the second portion of\n",
      "the syntax described above. This form is sometimes referred to as\n",
      "\"``print`` chevron.\" In this form, the first expression after the\n",
      "``>>`` must evaluate to a \"file-like\" object, specifically an object\n",
      "that has a ``write()`` method as described above.  With this extended\n",
      "form, the subsequent expressions are printed to this file object.  If\n",
      "the first expression evaluates to ``None``, then ``sys.stdout`` is\n",
      "used as the file for output.\n",
      "\n"
     ]
    }
   ],
   "source": [
    "help('print')"
   ]
  },
  {
   "cell_type": "markdown",
   "metadata": {
    "question": "1.4"
   },
   "source": [
    "### Exercise 4\n",
    "\n",
    "Start the Python interpreter and use it as a calculator. Python’s syntax for math operations is almost the same as standard mathematical notation. For example, the symbols +, - and / denote addition, subtraction and division, as you would expect. The symbol for multiplication is *.\n",
    "\n",
    "If you run a 10 kilometer race in 43 minutes 30 seconds, what is your average time per mile? What is your average speed in miles per hour? (Hint: there are 1.61 kilometers in a mile). "
   ]
  },
  {
   "cell_type": "code",
   "execution_count": 2,
   "metadata": {
    "collapsed": false
   },
   "outputs": [
    {
     "data": {
      "text/plain": [
       "8.567144998929106"
      ]
     },
     "execution_count": 2,
     "metadata": {},
     "output_type": "execute_result"
    }
   ],
   "source": [
    "(10/1.61)/(43.5/60)"
   ]
  },
  {
   "cell_type": "markdown",
   "metadata": {},
   "source": [
    "## Chapter 2"
   ]
  },
  {
   "cell_type": "markdown",
   "metadata": {
    "question": "2.2"
   },
   "source": [
    "### Exercise 2\n",
    "\n",
    "Assume that we execute the following assignment statements:\n",
    "\n",
    "```\n",
    "width = 17\n",
    "height = 12.0\n",
    "delimiter = '.'\n",
    "```\n",
    "\n",
    "For each of the following expressions, write the value of the expression and the type (of the value of the expression).\n",
    "\n",
    "1. `width/2`\n",
    "2. `width/2.0`\n",
    "3. `height/3`\n",
    "4. `1 + 2 * 5`\n",
    "5. `delimiter * 5`\n",
    "\n",
    "Please use the following markdown cell to provide your answer."
   ]
  },
  {
   "cell_type": "markdown",
   "metadata": {},
   "source": [
    "width/2 = 8, integer\n",
    "width/2.0 = 8.5, float\n",
    "height/3 = 4.0, float\n",
    "1+2*5 = 11, integer\n",
    "delimiter * 5 = '.....' , "
   ]
  },
  {
   "cell_type": "markdown",
   "metadata": {},
   "source": [
    "### Exercise 3\n",
    "\n",
    "Practice using the Python interpreter as a calculator.  For each of these provide Python code that computes each answer.\n",
    "\n",
    "    \n"
   ]
  },
  {
   "cell_type": "markdown",
   "metadata": {
    "question": "2.3a"
   },
   "source": [
    "The volume of a sphere with radius r is 4/3 $\\pi r^3$. What is the volume of a sphere with radius 5? Hint: 392.7 is wrong!"
   ]
  },
  {
   "cell_type": "code",
   "execution_count": 3,
   "metadata": {
    "collapsed": false
   },
   "outputs": [
    {
     "data": {
      "text/plain": [
       "523.3333333333334"
      ]
     },
     "execution_count": 3,
     "metadata": {},
     "output_type": "execute_result"
    }
   ],
   "source": [
    "4/3.0*3.14*5**3"
   ]
  },
  {
   "cell_type": "markdown",
   "metadata": {
    "question": "2.3b"
   },
   "source": [
    "Suppose the cover price of a book is \\$24.95, but bookstores get a 40% discount. Shipping costs \\$3 for the first copy and 75 cents for each additional copy. What is the total wholesale cost for 60 copies?"
   ]
  },
  {
   "cell_type": "code",
   "execution_count": 32,
   "metadata": {
    "collapsed": false
   },
   "outputs": [
    {
     "name": "stdout",
     "output_type": "stream",
     "text": [
      "Total price: $646.8\n"
     ]
    }
   ],
   "source": [
    "bookPrice = 24.95\n",
    "discount = .40\n",
    "shippingPrice = .75\n",
    "shippingPriceFirst = 3.00\n",
    "totalUnits = 60\n",
    "bookDiscountAmt = bookPrice * discount * totalUnits\n",
    "shipping = shippingPrice * totalUnits + shippingPriceFirst\n",
    "result = bookDiscountAmt + shipping\n",
    "print 'Total price: $' + str(result)"
   ]
  },
  {
   "cell_type": "markdown",
   "metadata": {
    "question": "2.3c"
   },
   "source": [
    "If I leave my house at 6:52 am and run 1 mile at an easy pace (8:15 per mile), then 3 miles at tempo (7:12 per mile) and 1 mile at easy pace again, what time do I get home for breakfast? "
   ]
  },
  {
   "cell_type": "code",
   "execution_count": null,
   "metadata": {
    "collapsed": true
   },
   "outputs": [],
   "source": []
  },
  {
   "cell_type": "markdown",
   "metadata": {},
   "source": [
    "## Chapter 3"
   ]
  },
  {
   "cell_type": "markdown",
   "metadata": {
    "question": "3.3"
   },
   "source": [
    "### Exercise 3\n",
    "\n",
    "Python provides a built-in function called `len` that returns the length of a string, so the value of `len('allen')` is 5.\n",
    "\n",
    "Write a function named `right_justify` that takes a string named `s` as a parameter and prints the string with enough leading spaces so that the last letter of the string is in column 70 of the display.\n",
    "\n",
    "```\n",
    ">>> right_justify('allen')\n",
    "                                                                 allen```"
   ]
  },
  {
   "cell_type": "code",
   "execution_count": 5,
   "metadata": {
    "collapsed": true
   },
   "outputs": [],
   "source": [
    "def right_justify(s):\n",
    "    sLen = len(s)\n",
    "    spaceRequired = 70 - sLen\n",
    "    spaces = ' ' * spaceRequired\n",
    "    return spaces + s"
   ]
  },
  {
   "cell_type": "markdown",
   "metadata": {
    "question": "3.5a"
   },
   "source": [
    "### Exercise 5\n",
    "\n",
    "This exercise can be done using only the statements and other features we have learned so far.\n",
    "\n",
    "(a) Write a function that draws a grid like the following:\n",
    "```\n",
    "+ - - - - + - - - - +\n",
    "|         |         |\n",
    "|         |         |\n",
    "|         |         |\n",
    "|         |         |\n",
    "+ - - - - + - - - - +\n",
    "|         |         |\n",
    "|         |         |\n",
    "|         |         |\n",
    "|         |         |\n",
    "+ - - - - + - - - - +\n",
    "```\n",
    "**Hint:** to print more than one value on a line, you can print a comma-separated sequence:\n",
    "```\n",
    "print '+', '-'\n",
    "```\n",
    "\n",
    "If the sequence ends with a comma, Python leaves the line unfinished, so the value printed next appears on the same line:\n",
    "```\n",
    "print '+', \n",
    "print '-'\n",
    "```\n",
    "\n",
    "The output of these statements is '+ -'.\n",
    "\n",
    "A print statement all by itself ends the current line and goes to the next line."
   ]
  },
  {
   "cell_type": "code",
   "execution_count": 29,
   "metadata": {
    "collapsed": false
   },
   "outputs": [
    {
     "name": "stdout",
     "output_type": "stream",
     "text": [
      "+ - - - - + - - - - +\n",
      "|         |         |\n",
      "|         |         |\n",
      "|         |         |\n",
      "|         |         |\n",
      "+ - - - - + - - - - +\n",
      "|         |         |\n",
      "|         |         |\n",
      "|         |         |\n",
      "|         |         |\n",
      "+ - - - - + - - - - +\n"
     ]
    }
   ],
   "source": [
    "#had trouble with this but able to find this solution/test out (thinkpython)\n",
    "def do_Func(f, val, iter):\n",
    "    i=0 \n",
    "    while i < iter:\n",
    "        f(val)\n",
    "        i=i+1\n",
    "\n",
    "def printer(val):\n",
    "    print val\n",
    "\n",
    "colCell = '+ - - - - + - - - - +'\n",
    "rowCell = '|         |         |'\n",
    "\n",
    "do_Func(printer, colCell, 1)\n",
    "do_Func(printer, rowCell, 4)\n",
    "do_Func(printer, colCell, 1)\n",
    "do_Func(printer, rowCell, 4)\n",
    "do_Func(printer, colCell, 1)"
   ]
  },
  {
   "cell_type": "markdown",
   "metadata": {
    "question": "3.5b"
   },
   "source": [
    "(b) Write a function that draws a similar grid with *four* rows and *four* columns."
   ]
  },
  {
   "cell_type": "code",
   "execution_count": 30,
   "metadata": {
    "collapsed": false
   },
   "outputs": [
    {
     "name": "stdout",
     "output_type": "stream",
     "text": [
      "+ - - - - + - - - - + - - - - + - - - - +\n",
      "|         |         |         |         |\n",
      "|         |         |         |         |\n",
      "|         |         |         |         |\n",
      "|         |         |         |         |\n",
      "+ - - - - + - - - - + - - - - + - - - - +\n",
      "|         |         |         |         |\n",
      "|         |         |         |         |\n",
      "|         |         |         |         |\n",
      "|         |         |         |         |\n",
      "+ - - - - + - - - - + - - - - + - - - - +\n",
      "|         |         |         |         |\n",
      "|         |         |         |         |\n",
      "|         |         |         |         |\n",
      "|         |         |         |         |\n",
      "+ - - - - + - - - - + - - - - + - - - - +\n",
      "|         |         |         |         |\n",
      "|         |         |         |         |\n",
      "|         |         |         |         |\n",
      "|         |         |         |         |\n",
      "+ - - - - + - - - - + - - - - + - - - - +\n"
     ]
    }
   ],
   "source": [
    "#modified thinkpython solution to Part 1\n",
    "def do_Func(f, val, iter):\n",
    "    i=0 \n",
    "    while i < iter:\n",
    "        f(val)\n",
    "        i=i+1\n",
    "\n",
    "def printer(val):\n",
    "    print val\n",
    "\n",
    "colCell = '+ - - - - + - - - - + - - - - + - - - - +'\n",
    "rowCell = '|         |         |         |         |'\n",
    "\n",
    "do_Func(printer, colCell, 1)\n",
    "do_Func(printer, rowCell, 4)\n",
    "do_Func(printer, colCell, 1)\n",
    "do_Func(printer, rowCell, 4)\n",
    "do_Func(printer, colCell, 1)\n",
    "do_Func(printer, rowCell, 4)\n",
    "do_Func(printer, colCell, 1)\n",
    "do_Func(printer, rowCell, 4)\n",
    "do_Func(printer, colCell, 1)"
   ]
  },
  {
   "cell_type": "markdown",
   "metadata": {},
   "source": [
    "## Chapter 5.1 - 5.7"
   ]
  },
  {
   "cell_type": "markdown",
   "metadata": {
    "question": "5.3a"
   },
   "source": [
    "### Exercise 3\n",
    "\n",
    "Fermat’s Last Theorem says that there are no positive integers $a$, $b$, and $c$ such that $a^n + b^n = c^n$ for any values of $n$ greater than 2.\n",
    "\n",
    "(a) Write a function named `check_fermat` that takes four parameters—$a$, $b$, $c$ and $n$—and that checks to see if Fermat’s theorem holds. If $n$ is greater than 2 and it turns out to be true that\n",
    "$a^n + b^n = c^n$ the program should print, \"Holy smokes, Fermat was wrong!\" Otherwise the program should print, \"No, that doesn’t work.\""
   ]
  },
  {
   "cell_type": "code",
   "execution_count": 8,
   "metadata": {
    "collapsed": true
   },
   "outputs": [],
   "source": [
    "def check_fermat(a, b, c, n):\n",
    "    if n == 2:\n",
    "        return 'See Pythagoras.'\n",
    "    elif a**n + b**n == c**n:\n",
    "        return 'Holy smokes, Fermat was wrong!'\n",
    "    return \"No, doesn't work.\""
   ]
  },
  {
   "cell_type": "markdown",
   "metadata": {
    "question": "5.3b"
   },
   "source": [
    "(b) Write a function that prompts the user to input values for $a$, $b$, $c$ and $n$, converts them to integers, and uses `check_fermat` to check whether they violate Fermat’s theorem."
   ]
  },
  {
   "cell_type": "code",
   "execution_count": 10,
   "metadata": {
    "collapsed": false
   },
   "outputs": [
    {
     "name": "stdout",
     "output_type": "stream",
     "text": [
      "a = 10\n",
      "b = 4\n",
      "c = 12\n",
      "n = 2\n",
      "See Pythagoras.\n"
     ]
    }
   ],
   "source": [
    "a = int(raw_input('a = '))\n",
    "b = int(raw_input('b = '))\n",
    "c = int(raw_input('c = '))\n",
    "n = int(raw_input('n = '))\n",
    "print check_fermat(a, b, c, n)"
   ]
  },
  {
   "cell_type": "markdown",
   "metadata": {
    "question": "5.4a"
   },
   "source": [
    "### Exercise 4\n",
    "\n",
    "If you are given three sticks, you may or may not be able to arrange them in a triangle. For example, if one of the sticks is 12 inches long and the other two are one inch long, it is clear that you will not be able to get the short sticks to meet in the middle. For any three lengths, there is a simple test to see if it is possible to form a triangle:\n",
    "> If any of the three lengths is greater than the sum of the other two, then you cannot form a triangle. Otherwise, you can. (If the sum of two lengths equals the third, they form what is called a “degenerate” triangle.)\n",
    "\n",
    "(a) Write a function named `is_triangle` that takes three integers as arguments, and that prints either \"Yes\" or \"No,\" depending on whether you can or cannot form a triangle from sticks with the given lengths."
   ]
  },
  {
   "cell_type": "code",
   "execution_count": 11,
   "metadata": {
    "collapsed": true
   },
   "outputs": [],
   "source": [
    "def is_triangle(a, b, c):\n",
    "    if (a > b + c) or (b > a + c) or (c > a + b):\n",
    "        print \"No\"\n",
    "    else:\n",
    "         print \"Yes\""
   ]
  },
  {
   "cell_type": "markdown",
   "metadata": {
    "question": "5.4b"
   },
   "source": [
    "(b) Write a function that prompts the user to input three stick lengths, converts them to integers, and uses is_triangle to check whether sticks with the given lengths can form a triangle."
   ]
  },
  {
   "cell_type": "code",
   "execution_count": 12,
   "metadata": {
    "collapsed": false
   },
   "outputs": [
    {
     "name": "stdout",
     "output_type": "stream",
     "text": [
      "A = 12\n",
      "B = 15\n",
      "C = 12\n",
      "Yes\n"
     ]
    }
   ],
   "source": [
    "a = int(raw_input(\"A = \"))\n",
    "b = int(raw_input(\"B = \"))\n",
    "c = int(raw_input(\"C = \"))\n",
    " \n",
    "triangle = [a, b, c]\n",
    "triangle.sort()\n",
    " \n",
    "def is_triangle():\n",
    "    if triangle[0] + triangle[1] <= triangle[2]:\n",
    "        print 'No'\n",
    "    else:\n",
    "        print 'Yes'\n",
    "         \n",
    "is_triangle()"
   ]
  },
  {
   "cell_type": "markdown",
   "metadata": {
    "is_poll": true,
    "question": "Time spent"
   },
   "source": [
    "## Quick poll\n",
    "\n",
    "About how long did you spend working on this Reading Journal?"
   ]
  },
  {
   "cell_type": "markdown",
   "metadata": {},
   "source": [
    "This took me a *long* time. And I tried to parse this over several days."
   ]
  },
  {
   "cell_type": "markdown",
   "metadata": {
    "question": "Feedback"
   },
   "source": [
    "## Reading Journal Feedback\n",
    "\n",
    "Have any comments on this Reading Journal? Feel free to leave them below and we'll read them when you submit your journal entry. This could include suggestions to improve the exercises, topics you'd like to see covered in class next time, or other feedback.\n",
    "\n",
    "If you have Python questions or run into problems while completing the reading, you should post them to Slack instead so you can get a quick response before your journal is submitted."
   ]
  },
  {
   "cell_type": "markdown",
   "metadata": {},
   "source": []
  }
 ],
 "metadata": {
  "kernelspec": {
   "display_name": "Python 2",
   "language": "python",
   "name": "python2"
  },
  "language_info": {
   "codemirror_mode": {
    "name": "ipython",
    "version": 2
   },
   "file_extension": ".py",
   "mimetype": "text/x-python",
   "name": "python",
   "nbconvert_exporter": "python",
   "pygments_lexer": "ipython2",
   "version": "2.7.6"
  }
 },
 "nbformat": 4,
 "nbformat_minor": 0
}
